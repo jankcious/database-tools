{
 "cells": [
  {
   "cell_type": "code",
   "execution_count": 2,
   "metadata": {
    "collapsed": false
   },
   "outputs": [],
   "source": [
    "import pyodbc\n",
    "from sqlalchemy import create_engine"
   ]
  },
  {
   "cell_type": "code",
   "execution_count": 4,
   "metadata": {
    "collapsed": false
   },
   "outputs": [
    {
     "data": {
      "text/plain": [
       "<sqlalchemy.engine.base.Connection at 0x44ffdd8>"
      ]
     },
     "execution_count": 4,
     "metadata": {},
     "output_type": "execute_result"
    }
   ],
   "source": [
    "engine.connect()"
   ]
  },
  {
   "cell_type": "code",
   "execution_count": 5,
   "metadata": {
    "collapsed": false
   },
   "outputs": [],
   "source": [
    "from sqlalchemy import Table, Column, Integer, String, MetaData, ForeignKey, Date, Boolean\n",
    "\n",
    "metadata = MetaData()"
   ]
  },
  {
   "cell_type": "code",
   "execution_count": 6,
   "metadata": {
    "collapsed": false
   },
   "outputs": [],
   "source": [
    "client = Table('Client', metadata,\n",
    "              Column('ID', Integer, autoincrement=True, primary_key=True),\n",
    "              Column('Description', String(100), primary_key=True),\n",
    "              Column('CategoryID', Integer))\n",
    "campaign = Table('Campaign', metadata,\n",
    "                Column('ID', Integer, autoincrement=True, primary_key=True),\n",
    "                Column('DCM_ID', Integer, primary_key=True),\n",
    "                Column('Description', String(255)),\n",
    "                Column('ClientID', Integer),\n",
    "                Column('Start_Date', Date),\n",
    "                Column('End_Date', Date))\n",
    "placement = Table('Placement', metadata,\n",
    "                  Column('ID', Integer, autoincrement=True, primary_key=True),\n",
    "                  Column('DCM_ID', Integer, primary_key=True),\n",
    "                  Column('Description', String(255)),\n",
    "                  Column('AdSizeH', Integer),\n",
    "                  Column('AdSizeW', Integer),\n",
    "                  Column('ChannelID', Integer),\n",
    "                  Column('PartnerID', Integer),\n",
    "                  Column('LineItemID', Integer),\n",
    "                  Column('Tactic', String(255)),\n",
    "                  Column('Market', String(255)),\n",
    "                  Column('CampaignID', Integer))\n",
    "engagement = Table('Engagement', metadata,\n",
    "                   Column('ID', Integer, autoincrement=True, primary_key=True),\n",
    "                   Column('PlacementID', Integer, primary_key=True),\n",
    "                   Column('ServeDate', Date, primary_key=True),\n",
    "                   Column('Geography', String(10), primary_key=True),\n",
    "                   Column('Impressions', Integer),\n",
    "                   Column('Clicks', Integer),\n",
    "                   Column('AV_Viewable_Imp', Integer),\n",
    "                   Column('AV_Measurable_Imp', Integer),\n",
    "                   Column('AV_Eligible_Imp', Integer),\n",
    "                   Column('ValidDate', Boolean))\n",
    "flight = Table('Flight', metadata,\n",
    "              Column('ID', Integer, autoincrement=True, primary_key=True),\n",
    "              Column('PlacementID', Integer, primary_key=True),\n",
    "              Column('Flight_Booked_Units', Integer),\n",
    "              Column('Start_Date', Date, primary_key=True),\n",
    "              Column('End_Date', Date))\n",
    "partner = Table('Partner', metadata,\n",
    "               Column('ID', Integer, autoincrement=True, primary_key=True),\n",
    "                Column('DCM_ID', Integer, primary_key=True),\n",
    "                Column('Name', String(255)))\n",
    "client_category = Table('Client_Category', metadata,\n",
    "                       Column('ID', Integer, autoincrement=True, primary_key=True),\n",
    "                       Column('Description', String(255), primary_key=True))\n",
    "channel = Table('Channel', metadata,\n",
    "               Column('ID', Integer, autoincrement=True, primary_key=True),\n",
    "               Column('Description', String(255), primary_key=True))\n",
    "loadlog = Table('LoadLog', metadata,\n",
    "                Column('ID', Integer, primary_key=True),\n",
    "                Column('DCM_ID', Integer),\n",
    "                Column('Who', String(255)),\n",
    "                Column('When', Date),\n",
    "                Column('Description', String(255)))\n",
    "\n",
    "#metadata.create_all(engine)"
   ]
  },
  {
   "cell_type": "code",
   "execution_count": 75,
   "metadata": {
    "collapsed": false
   },
   "outputs": [],
   "source": [
    "ins = client_category.insert().values(Description=\"Grocery\")\n",
    "conn = engine.connect()\n",
    "result = conn.execute(ins)\n",
    "ins = client_category.insert().values(Description=\"Retail\")\n",
    "conn = engine.connect()\n",
    "result = conn.execute(ins)\n",
    "ins = client_category.insert().values(Description=\"Pharmacy\")\n",
    "conn = engine.connect()\n",
    "result = conn.execute(ins)"
   ]
  },
  {
   "cell_type": "code",
   "execution_count": 7,
   "metadata": {
    "collapsed": false
   },
   "outputs": [],
   "source": [
    "#to remove a table\n",
    "#tablename.drop(engine)\n",
    "\n",
    "# client.drop(engine)\n",
    "engagement.drop(engine)\n",
    "# partner.drop(engine)\n",
    "# engagement.drop(engine)\n",
    "# client_category.drop(engine)\n",
    "# loadlog.drop(engine)\n",
    "# campaign.drop(engine)\n",
    "# placement.drop(engine)\n",
    "engagement.create(engine)\n",
    "#metadata.drop_all(engine)\n"
   ]
  },
  {
   "cell_type": "code",
   "execution_count": 70,
   "metadata": {
    "collapsed": false
   },
   "outputs": [],
   "source": [
    "client_category = Table('Client_Category', metadata,\n",
    "                       Column('ID', Integer, autoincrement=True),\n",
    "                       Column('Description', String(255), primary_key=True))\n",
    "metadata.create_all(engine)"
   ]
  }
 ],
 "metadata": {
  "anaconda-cloud": {},
  "kernelspec": {
   "display_name": "Python [conda root]",
   "language": "python",
   "name": "conda-root-py"
  },
  "language_info": {
   "codemirror_mode": {
    "name": "ipython",
    "version": 2
   },
   "file_extension": ".py",
   "mimetype": "text/x-python",
   "name": "python",
   "nbconvert_exporter": "python",
   "pygments_lexer": "ipython2",
   "version": "2.7.12"
  }
 },
 "nbformat": 4,
 "nbformat_minor": 0
}
