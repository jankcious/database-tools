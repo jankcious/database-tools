{
 "cells": [
  {
   "cell_type": "code",
   "execution_count": 1,
   "metadata": {
    "collapsed": false
   },
   "outputs": [],
   "source": [
    "import pyodbc\n",
    "from sqlalchemy import create_engine"
   ]
  },
  {
   "cell_type": "code",
   "execution_count": 3,
   "metadata": {
    "collapsed": false
   },
   "outputs": [
    {
     "data": {
      "text/plain": [
       "<sqlalchemy.engine.base.Connection at 0x546b630>"
      ]
     },
     "execution_count": 3,
     "metadata": {},
     "output_type": "execute_result"
    }
   ],
   "source": [
    "engine.connect()"
   ]
  },
  {
   "cell_type": "code",
   "execution_count": 32,
   "metadata": {
    "collapsed": false
   },
   "outputs": [],
   "source": [
    "from sqlalchemy import Table, Column, Integer, String, MetaData, ForeignKey, Date, Boolean, Float\n",
    "\n",
    "metadata = MetaData()"
   ]
  },
  {
   "cell_type": "code",
   "execution_count": 33,
   "metadata": {
    "collapsed": false
   },
   "outputs": [],
   "source": [
    "competitor_locations = Table('Competitor_Locations', metadata,\n",
    "                             Column('ID', Integer, autoincrement=True, primary_key=True),\n",
    "                             Column('Competitor_Name', String(100), primary_key=True),\n",
    "                             Column('Store_Name', String(100), primary_key=True),\n",
    "                             Column('Street', String(100), primary_key=True),\n",
    "                             Column('City', String(100)),\n",
    "                             Column('State', String(5)),\n",
    "                             Column('ZIP', String(5)),\n",
    "                             Column('Latitude', Float(8)),\n",
    "                             Column('Longitude', Float(8)),\n",
    "                             extend_existing=True\n",
    "                            )\n",
    "competitor = Table('Competitor', metadata,\n",
    "                   Column('ID', Integer, autoincrement=True, primary_key=True),\n",
    "                   Column('NAME', String(100), primary_key=True),\n",
    "                   Column('VALUE', String(100), primary_key=True),\n",
    "                   extend_existing=True\n",
    "                   )\n",
    "\n",
    "metadata.create_all(engine)"
   ]
  },
  {
   "cell_type": "code",
   "execution_count": 75,
   "metadata": {
    "collapsed": false
   },
   "outputs": [],
   "source": [
    "ins = client_category.insert().values(Description=\"Grocery\")\n",
    "conn = engine.connect()\n",
    "result = conn.execute(ins)\n",
    "ins = client_category.insert().values(Description=\"Retail\")\n",
    "conn = engine.connect()\n",
    "result = conn.execute(ins)\n",
    "ins = client_category.insert().values(Description=\"Pharmacy\")\n",
    "conn = engine.connect()\n",
    "result = conn.execute(ins)"
   ]
  },
  {
   "cell_type": "code",
   "execution_count": 31,
   "metadata": {
    "collapsed": false
   },
   "outputs": [],
   "source": [
    "#to remove a table\n",
    "#tablename.drop(engine)\n",
    "competitor_locations.drop(engine)\n",
    "competitor.drop(engine)\n",
    "#competitor_locations.create(engine)\n",
    "# client.drop(engine)\n",
    "#engagement.drop(engine)\n",
    "# partner.drop(engine)\n",
    "# engagement.drop(engine)\n",
    "# client_category.drop(engine)\n",
    "# loadlog.drop(engine)\n",
    "# campaign.drop(engine)\n",
    "# placement.drop(engine)\n",
    "#engagement.create(engine)\n",
    "#metadata.drop_all(engine)\n"
   ]
  },
  {
   "cell_type": "code",
   "execution_count": 70,
   "metadata": {
    "collapsed": false
   },
   "outputs": [],
   "source": [
    "client_category = Table('Client_Category', metadata,\n",
    "                       Column('ID', Integer, autoincrement=True),\n",
    "                       Column('Description', String(255), primary_key=True))\n",
    "metadata.create_all(engine)"
   ]
  },
  {
   "cell_type": "markdown",
   "metadata": {},
   "source": [
    "Investigate the use of the unique tab.  How can I make sure that new lines are going to be seen as new and appended instead of updated values?  IE, Engagement should be ServeDate + Geography, right?  Maybe set up autoincrements for the ID column and move primary key to the actual values we're comparing."
   ]
  }
 ],
 "metadata": {
  "anaconda-cloud": {},
  "kernelspec": {
   "display_name": "Python 3",
   "language": "python",
   "name": "python3"
  },
  "language_info": {
   "codemirror_mode": {
    "name": "ipython",
    "version": 3
   },
   "file_extension": ".py",
   "mimetype": "text/x-python",
   "name": "python",
   "nbconvert_exporter": "python",
   "pygments_lexer": "ipython3",
   "version": "3.5.1"
  }
 },
 "nbformat": 4,
 "nbformat_minor": 0
}
